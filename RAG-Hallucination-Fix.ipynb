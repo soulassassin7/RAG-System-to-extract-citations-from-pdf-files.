{
 "cells": [
  {
   "cell_type": "markdown",
   "id": "576687b8-6559-4741-8607-34dcccee8aeb",
   "metadata": {},
   "source": [
    "# RAG Algorithm"
   ]
  },
  {
   "cell_type": "code",
   "execution_count": 1,
   "id": "866e4b5a-7dac-42ab-bdaf-024f15cced8b",
   "metadata": {},
   "outputs": [],
   "source": [
    "import re\n",
    "import spacy\n",
    "import pdfplumber \n",
    "\n",
    "def find_citations(pdf_file_path):\n",
    "    \n",
    "    nlp = spacy.load(\"en_core_web_sm\")\n",
    "    \n",
    "    document_text = \"\"\n",
    "    with pdfplumber.open(pdf_file_path) as pdf:\n",
    "        for page in pdf.pages:\n",
    "            document_text += page.extract_text()\n",
    "    \n",
    "    citation_pattern_1 = re.compile(r\"[A-Za-z\\s.'’&,]+v\\.?\\s[A-Za-z\\s.'’&,]+\\(.*?\\)\", re.DOTALL)\n",
    "    citation_pattern_2 = re.compile(r\"[A-Z\\s.,]+[,\\s]?[Vv]\\.[A-Z\\s.,]+\")\n",
    "    section_symbol = \"§\"\n",
    "    \n",
    "    doc = nlp(document_text)\n",
    "    \n",
    "    citations = []\n",
    "    \n",
    "    for i, sentence in enumerate(doc.sents):\n",
    "        if \"Name:\" not in sentence.text:\n",
    "            if section_symbol in sentence.text:\n",
    "                citations.append((i, sentence.text.strip()))\n",
    "            matches = citation_pattern_1.findall(sentence.text)\n",
    "            if not matches:\n",
    "                matches = citation_pattern_2.findall(sentence.text)\n",
    "                for match in matches:\n",
    "                    citations.append((i, match.strip()))\n",
    "            else:\n",
    "                for match in matches:\n",
    "                    citations.append((i, match.strip() + \")\"))\n",
    "    \n",
    "    citations.sort(key=lambda x: x[0])\n",
    "    \n",
    "    sorted_citations = [citation for _, citation in citations]   \n",
    "\n",
    "    return sorted_citations\n"
   ]
  },
  {
   "cell_type": "code",
   "execution_count": 2,
   "id": "b7ab30e6-b468-4df2-9c9e-8cad1ab03e5d",
   "metadata": {},
   "outputs": [
    {
     "name": "stdout",
     "output_type": "stream",
     "text": [
      "Extracted Citations:\n",
      "1. IRC § 501(c)(3)\n",
      "2. Bob Jones University v. Simon (472 U.S. 509 (1983))\n",
      "3. Reynolds v. United States (98 F.3d 1127 (9th Cir. 1996))\n",
      "4. Eastern Montana College of Education v. Helena (924 F.2d 1322 (9th Cir. 1991))\n",
      "5. Glock v. Commissioner (79 T.C. 449 (1982))\n",
      "6. Speakman v. Commissioner (823 F.2d 1168 (6th Cir. 1987))\n",
      "7. Murdoch v. Commissioner (704 F.2d 1002 (9th Cir. 1983))\n",
      "8. Texas Heart Hospital of St. Luke's Episcopal Health Charities, Inc. v. United States (978\n",
      "F.2d 280 (5th Cir. 1992))\n",
      "9. United States v. The Sanctuary (49 F.3d 572 (9th Cir. 1995))\n",
      "10. .Hermitage Ministries, Inc. v. Commissioner (73 T.C. 1106 (1979))\n"
     ]
    }
   ],
   "source": [
    "pdf_file_path = \"RAG-Assignment.pdf\"\n",
    "extracted_citations = find_citations(pdf_file_path)\n",
    "print(\"Extracted Citations:\")\n",
    "k = 1\n",
    "for citation in extracted_citations:\n",
    "    print(f\"{k}. {citation}\")\n",
    "    k += 1"
   ]
  },
  {
   "cell_type": "code",
   "execution_count": 3,
   "id": "217201a4-053b-4124-98ae-3fc60c5e93d3",
   "metadata": {},
   "outputs": [
    {
     "name": "stdout",
     "output_type": "stream",
     "text": [
      "Extracted Citations:\n",
      "1. U.S. STEEL CORP. V. EPA, ET AL.\n",
      "2. TEXAS V. NEW MEXICO, ET AL.\n",
      "3. JORDAN, CHRISTINA V. HOWELL, KARLA\n",
      "4. ERWIN, DANIEL V. HOWELL, KARLA\n",
      "5. HUGHES, SAMUEL T. V. UNITED STATES\n",
      "T\n",
      "6. GLOSSIP, RICHARD E. V. OKLAHOMA\n",
      "7. PORTER, STEPHEN R. V. BOARD OF TRUSTEES OF NC, ET AL.\n",
      "8. ROSS, KRISTY V. FTC\n",
      "9. ARCHER, DEVON V. UNITED STATES\n",
      "10. YOAST, TERRENCE R. V. POTTSTOWN BOROUGH, PA, ET AL.\n",
      "11. OTOH, PETER V. U.S. BANK TRUST, ET AL.\n",
      "12. MERLO, KENDALL V. WARREN, INGRID\n",
      "13. DE BOTTON, RAYMOND V. QUALITY LOAN SERV.\n",
      "14. BAPTISTE, HAROLD V. DEPT.\n",
      "15. SUPERIOR WELL SERVICES, INC. V. AMERICAN HOME ASSURANCE, ET AL.\n",
      "16. ABDULLA, SOHAIL M. V. SOUTHERN BANK\n",
      "17. KENNO, YOSEPH Y. V. CO GOVERNOR\n",
      "18. SMITH, CALEB A. C. V. UNITED STATES\n",
      "19. MILLER, DAISY V. UNITED STATES\n",
      "20. DIAMOND J. WHOLESALE, LLC V. TOP TOBACCO, L.P., ET AL.\n",
      "21. JOHNSON, DAQUAIL R. V. VIRGINIA\n",
      "22. MOODY, JEREMY V. GEORGIA\n",
      "23. LANGSTON, RICHARD V. CONNECTICUT\n",
      "24. SIMMONS, KIRK A. V. SCARANTINO, THOMAS\n",
      "25. AUSTIN, MARIO V. AMERICAN BUILDING CO.\n",
      "26. SWEET, CHRISTY K. V. SWEET, KATHRYN, ET AL.\n",
      "27. MELTON, ANTONIO L. V. FLORIDA\n",
      "28. NIXON, NATHAN V. FLORIDA\n",
      "29. DEBORA D. V. JOHN D., ET AL.\n",
      "30. SORBEL, TALTHIA V. SD, EX REL.\n",
      "31. SD SOCIAL SERV.\n",
      "32. KIMBROUGH, ANTHONY V. OKLAHOMA\n",
      "33. WILLIAMS, KIRK L. V. WASHINGTON\n",
      "34. SHIRLEY, WILLIAM V. HARPE, DIR., OK DOC\n",
      "35. HAMILTON, ALPHEUS E. V. ARIZONA\n",
      "36. BLOCKSON, CHRISTOPHER L. V. OLIVER, WARDEN, ET AL.\n",
      "37. LEE, VALENTINO B. V. DIXON, SEC., FL DOC\n",
      "38. FINN, GEORGE H. V. NEW YORK, ET AL.\n",
      "39. GALLEGOS, CARLOS N. V. TEXAS\n",
      "40. POLIERO, ROBERT V. UNITED STATES\n",
      "41. DE LA CRUZ LEYVA, UBALDO V. UNITED STATES\n",
      "42. SMITH, SHAQUILLE D. V. UNITED STATES\n",
      "43. BARIOS, MANUEL V. UNITED STATES\n",
      "44. SMITH, DANIEL T. V. UNITED STATES\n",
      "45. LOPEZ, GUSTAVO V. UNITED STATES\n",
      "46. DAUM, TERRY V. COREY, SUPT., AUBURN\n",
      "47. PARKS, KYLE M. V. UNITED STATES\n",
      "48. ROBINSON, HARLAND L. V. COMPASS GROUP USA, INC.\n",
      "49. ROMERO, JOHN S. V. UNITED STATES\n",
      "50. DICKEY, JOSEPH R. V. WARDEN, FCI MARIANNA\n",
      "51. LUNAR, JESUS S. V. UNITED STATES\n",
      "52. CARRILLO, FRANCISCO V. UNITED STATES\n",
      "53. ARELLANO, DONATO V. UNITED STATES\n",
      "54. RODRIGUEZ, JONATHAN V. UNITED STATES\n",
      "55. LAZARO, JUAN A. V. UNITED STATES\n",
      "56. OGLE, BRYAN L. V. UNITED STATES\n",
      "57. ABAD, FREDDY V. UNITED STATES\n",
      "58. SALCIDO, IGNACIO V. UNITED STATES\n",
      "59. HAND, YAVONNE V. UNITED STATES\n",
      "60. GARCIA, FIDEL V. UNITED STATES\n",
      "61. PEREZ, ISMAEL V. UNITED STATES\n",
      "62. PAIVA, KENNETH V. UNITED STATES\n",
      "63. PARKS, KYLE M. V. UNITED STATES\n",
      "64. CROWELL, RAY O. V. SEVIER, WARDEN\n",
      "65. HEWLETT, KEVIN V. UNITED STATES\n",
      "66. HOLLOWELL, JOVON M. V. UNITED STATES\n",
      "67. CRAWFORD, ROBERT L. V. UNITED STATES\n",
      "68. CLUM, DAVID V. UNITED STATES\n",
      "69. STEVENSON, DANA J. V. UNITED STATES\n",
      "70. DANIEL, WILLIAM J. V. UNITED STATES\n",
      "71. DOW, LACARL V. UNITED STATES\n",
      "72. RAMIREZ, SANTIAGO V. UNITED STATES\n",
      "73. GHALOUSTIAN, RAYMOND V. UNITED STATES\n",
      "74. MOORE, HANNIBAL V. UNITED STATES\n",
      "75. LOPEZ, ANTONIO M. V. UNITED STATES\n",
      "76. GUEVARA TRIANA, NORA G. V. UNITED STATES\n",
      "77. WALKER, DEVONNE L. V. UNITED STATES\n",
      "78. GARIBAY MENDOZA, JAVIER V. UNITED STATES\n",
      "79. GUZMAN, JUAN V. UNITED STATES\n",
      "80. BOWIE, PATRICK V. MILLER, SUPT., GREEN HAVEN\n",
      "81. JORDAN, WALTER F. V. UNITED STATES\n",
      "82. BELL, TRAYONE L. V. UNITED STATES\n",
      "83. TERRY, JEROME V. UNITED STATES\n",
      "84. SMITH, DALTON L. V. UNITED STATES\n",
      "85. SELLS, MARK E. V. UNITED STATES\n",
      "86. RAY, LANCEY D. V. OKLAHOMA\n",
      "87. CHAE, BYUNGMIN V. YELLEN, SEC.\n",
      "88. JAMES, TREQUAN D. V. VIRGINIA\n",
      "89. JORDAN, ELLISON O. V. PA STATE UNIVERSITY, ET AL.\n",
      "90. WADE, DEMETRIUS J. V. CLARKE, DIR., VA DOC\n",
      "T\n"
     ]
    }
   ],
   "source": [
    "pdf_file_path = \"C:\\Datasets/012224zor_4gcj.pdf\"\n",
    "extracted_citations = find_citations(pdf_file_path)\n",
    "print(\"Extracted Citations:\")\n",
    "k = 1\n",
    "for citation in extracted_citations:\n",
    "    print(f\"{k}. {citation}\")\n",
    "    k += 1"
   ]
  },
  {
   "cell_type": "code",
   "execution_count": 4,
   "id": "575ba342-6fb1-419e-a12e-4bad45667c60",
   "metadata": {},
   "outputs": [],
   "source": [
    "# Extracted 90 citations from a us federal court document pdf "
   ]
  },
  {
   "cell_type": "markdown",
   "id": "4caa4d9a-16b0-47b0-a10d-f746bd176c6e",
   "metadata": {},
   "source": [
    "## EVALUATION"
   ]
  },
  {
   "cell_type": "markdown",
   "id": "94e39fde-c6d2-4989-b194-c3403cf00ad7",
   "metadata": {},
   "source": [
    "#### On Sample Document"
   ]
  },
  {
   "cell_type": "code",
   "execution_count": 5,
   "id": "d639f24d-bbb9-44f5-ac0c-8bf49d3cee3c",
   "metadata": {},
   "outputs": [
    {
     "name": "stderr",
     "output_type": "stream",
     "text": [
      "C:\\Users\\91785\\anaconda3\\Lib\\site-packages\\fuzzywuzzy\\fuzz.py:11: UserWarning: Using slow pure-python SequenceMatcher. Install python-Levenshtein to remove this warning\n",
      "  warnings.warn('Using slow pure-python SequenceMatcher. Install python-Levenshtein to remove this warning')\n"
     ]
    },
    {
     "name": "stdout",
     "output_type": "stream",
     "text": [
      "Precision: 1.0\n",
      "Recall: 1.0\n",
      "F1-score: 1.0\n"
     ]
    }
   ],
   "source": [
    "from fuzzywuzzy import fuzz\n",
    "\n",
    "def evaluate_citations(extracted_citations, actual_citations):\n",
    "    TP = 0\n",
    "    FP = 0\n",
    "    FN = 0\n",
    "\n",
    "    for extracted_citation in extracted_citations:\n",
    "        found_match = False\n",
    "        for actual_citation in actual_citations:\n",
    "            if fuzz.ratio(extracted_citation, actual_citation) >= 95: \n",
    "                TP += 1\n",
    "                found_match = True\n",
    "                break\n",
    "        if not found_match:\n",
    "            FP += 1\n",
    "\n",
    "    for actual_citation in actual_citations:\n",
    "        if all(fuzz.ratio(actual_citation, extracted_citation) < 95 for extracted_citation in extracted_citations):\n",
    "            FN += 1\n",
    "\n",
    "    precision = TP / (TP + FP) if (TP + FP) > 0 else 0\n",
    "    recall = TP / (TP + FN) if (TP + FN) > 0 else 0\n",
    "    f1_score = 2 * (precision * recall) / (precision + recall) if (precision + recall) > 0 else 0\n",
    "    \n",
    "    return precision, recall, f1_score\n",
    "\n",
    "\n",
    "\n",
    "actual_citation = [\"IRC § 501(c)(3)\", \"Bob Jones University v. Simon (472 U.S. 509 (1983))\",\"Reynolds v. United States (98 F.3d 1127 (9th Cir. 1996))\",\"Eastern Montana College of Education v. Helena (924 F.2d 1322 (9th Cir. 1991))\",\"Glock v. Commissioner (79 T.C. 449 (1982))\",\"Speakman v. Commissioner (823 F.2d 1168 (6th Cir. 1987))\",\"Murdoch v. Commissioner (704 F.2d 1002 (9th Cir. 1983))\",\"Texas Heart Hospital of St. Luke's Episcopal Health Charities, Inc. v. United States (978 F.2d 280 (5th Cir. 1992))\",\"United States v. The Sanctuary (49 F.3d 572 (9th Cir. 1995))\",\"Hermitage Ministries, Inc. v. Commissioner (73 T.C. 1106 (1979))\"]\n",
    "\n",
    "extracted = find_citations(\"RAG-Assignment.pdf\") \n",
    "precision, recall, f1_score = evaluate_citations(extracted, actual_citation)\n",
    "print(\"Precision:\", precision)\n",
    "print(\"Recall:\", recall)\n",
    "print(\"F1-score:\", f1_score)"
   ]
  },
  {
   "cell_type": "markdown",
   "id": "8e1140ec-9c83-47cd-a01e-d66dce4bb88e",
   "metadata": {},
   "source": [
    "##### The above code uses fuzz ratio to calculate true positive, false negative and false positive, if fuzzratio is greater than 0.95(high similarity) it considers the citations to be matching with the actual citation, this is to ensure that the slight formatting differneces between the extracted citations and actual citations don't disturb the precision, recall and f1 score calculation."
   ]
  },
  {
   "cell_type": "markdown",
   "id": "16cf0ea8-75d3-411e-b5d7-f794850a60e1",
   "metadata": {},
   "source": [
    "### Simple Evaluation"
   ]
  },
  {
   "cell_type": "code",
   "execution_count": 6,
   "id": "d5444afb-7513-446c-bbd4-b4493ac0e8d9",
   "metadata": {},
   "outputs": [
    {
     "name": "stdout",
     "output_type": "stream",
     "text": [
      "Precision: 0.8\n",
      "Recall: 0.8\n",
      "F1-score: 0.8000000000000002\n"
     ]
    }
   ],
   "source": [
    "def evaluate_citations(extracted_citations, actual_citations):\n",
    "    TP = len(set(extracted_citations) & set(actual_citations))\n",
    "    FP = len(set(extracted_citations) - set(actual_citations))\n",
    "    FN = len(set(actual_citations) - set(extracted_citations))\n",
    "    \n",
    "    precision = TP / (TP + FP) if (TP + FP) > 0 else 0\n",
    "    recall = TP / (TP + FN) if (TP + FN) > 0 else 0\n",
    "    f1_score = 2 * (precision * recall) / (precision + recall) if (precision + recall) > 0 else 0\n",
    "    \n",
    "    return precision, recall, f1_score\n",
    "\n",
    "actual_citation = [\"IRC § 501(c)(3)\", \"Bob Jones University v. Simon (472 U.S. 509 (1983))\",\"Reynolds v. United States (98 F.3d 1127 (9th Cir. 1996))\",\"Eastern Montana College of Education v. Helena (924 F.2d 1322 (9th Cir. 1991))\",\"Glock v. Commissioner (79 T.C. 449 (1982))\",\"Speakman v. Commissioner (823 F.2d 1168 (6th Cir. 1987))\",\"Murdoch v. Commissioner (704 F.2d 1002 (9th Cir. 1983))\",\"Texas Heart Hospital of St. Luke's Episcopal Health Charities, Inc. v. United States (978 F.2d 280 (5th Cir. 1992))\",\"United States v. The Sanctuary (49 F.3d 572 (9th Cir. 1995))\",\"Hermitage Ministries, Inc. v. Commissioner (73 T.C. 1106 (1979))\"]  \n",
    "extracted = find_citations(\"RAG-Assignment.pdf\") \n",
    "\n",
    "precision, recall, f1_score = evaluate_citations(extracted, actual_citation)\n",
    "\n",
    "print(\"Precision:\", precision)\n",
    "print(\"Recall:\", recall)\n",
    "print(\"F1-score:\", f1_score)"
   ]
  },
  {
   "cell_type": "markdown",
   "id": "4c45143a-f755-4601-b98f-7d76d5cb463a",
   "metadata": {},
   "source": [
    "##### This one is giving 0.8 because this code treats \"Texas Heart Hospital of St. Luke's Episcopal Health Charities, Inc. v. United States (978\r",
    "##### \n",
    "F.2d 280 (5th Cir. 1992)\" and \".Hermitage Ministries, Inc. v. Commissioner (73 T.C. 1106 (1979)) in extracted citations as false positives\"\n",
    ")"
   ]
  }
 ],
 "metadata": {
  "kernelspec": {
   "display_name": "Python 3 (ipykernel)",
   "language": "python",
   "name": "python3"
  },
  "language_info": {
   "codemirror_mode": {
    "name": "ipython",
    "version": 3
   },
   "file_extension": ".py",
   "mimetype": "text/x-python",
   "name": "python",
   "nbconvert_exporter": "python",
   "pygments_lexer": "ipython3",
   "version": "3.11.5"
  }
 },
 "nbformat": 4,
 "nbformat_minor": 5
}
